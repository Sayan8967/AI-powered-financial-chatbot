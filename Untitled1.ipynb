{
 "cells": [
  {
   "cell_type": "code",
   "execution_count": 1,
   "id": "778b3243-5729-49f8-8d5c-81dd99dd81d0",
   "metadata": {},
   "outputs": [],
   "source": [
    "import pandas as pd\n",
    "data = pd.read_csv('final_data_report.csv')\n",
    "data_2 = pd.read_csv('Summary_final_report.csv')"
   ]
  },
  {
   "cell_type": "code",
   "execution_count": null,
   "id": "1e3e50df-ee5a-428d-b937-b3667ddb4b1f",
   "metadata": {},
   "outputs": [],
   "source": []
  },
  {
   "cell_type": "code",
   "execution_count": 2,
   "id": "14de6f6f-8692-4994-8b9d-83fd3745084b",
   "metadata": {},
   "outputs": [
    {
     "data": {
      "text/html": [
       "<div>\n",
       "<style scoped>\n",
       "    .dataframe tbody tr th:only-of-type {\n",
       "        vertical-align: middle;\n",
       "    }\n",
       "\n",
       "    .dataframe tbody tr th {\n",
       "        vertical-align: top;\n",
       "    }\n",
       "\n",
       "    .dataframe thead th {\n",
       "        text-align: right;\n",
       "    }\n",
       "</style>\n",
       "<table border=\"1\" class=\"dataframe\">\n",
       "  <thead>\n",
       "    <tr style=\"text-align: right;\">\n",
       "      <th></th>\n",
       "      <th>Unnamed: 0</th>\n",
       "      <th>Year</th>\n",
       "      <th>Total Revenue</th>\n",
       "      <th>Net Income</th>\n",
       "      <th>Total Assets</th>\n",
       "      <th>Total Liabilities</th>\n",
       "      <th>Cash Flow from Operating Activities</th>\n",
       "      <th>Company</th>\n",
       "      <th>Revenue Growth (%)</th>\n",
       "      <th>Net Income Growth (%)</th>\n",
       "      <th>Assets Growth (%)</th>\n",
       "      <th>Liabilities Growth (%)</th>\n",
       "      <th>Cash Flow from Operations Growth(%)</th>\n",
       "    </tr>\n",
       "  </thead>\n",
       "  <tbody>\n",
       "    <tr>\n",
       "      <th>0</th>\n",
       "      <td>0</td>\n",
       "      <td>2023</td>\n",
       "      <td>211915</td>\n",
       "      <td>72361</td>\n",
       "      <td>411976</td>\n",
       "      <td>205753</td>\n",
       "      <td>87582</td>\n",
       "      <td>Microsoft</td>\n",
       "      <td>0.000000</td>\n",
       "      <td>0.000000</td>\n",
       "      <td>0.000000</td>\n",
       "      <td>0.000000</td>\n",
       "      <td>0.000000</td>\n",
       "    </tr>\n",
       "    <tr>\n",
       "      <th>1</th>\n",
       "      <td>1</td>\n",
       "      <td>2022</td>\n",
       "      <td>198270</td>\n",
       "      <td>72738</td>\n",
       "      <td>364840</td>\n",
       "      <td>198298</td>\n",
       "      <td>89035</td>\n",
       "      <td>Microsoft</td>\n",
       "      <td>-6.438902</td>\n",
       "      <td>0.520999</td>\n",
       "      <td>-11.441443</td>\n",
       "      <td>-3.623276</td>\n",
       "      <td>1.659017</td>\n",
       "    </tr>\n",
       "    <tr>\n",
       "      <th>2</th>\n",
       "      <td>2</td>\n",
       "      <td>2021</td>\n",
       "      <td>168088</td>\n",
       "      <td>61271</td>\n",
       "      <td>333779</td>\n",
       "      <td>191791</td>\n",
       "      <td>76740</td>\n",
       "      <td>Microsoft</td>\n",
       "      <td>-15.222676</td>\n",
       "      <td>-15.764800</td>\n",
       "      <td>-8.513595</td>\n",
       "      <td>-3.281425</td>\n",
       "      <td>-13.809176</td>\n",
       "    </tr>\n",
       "    <tr>\n",
       "      <th>3</th>\n",
       "      <td>3</td>\n",
       "      <td>2023</td>\n",
       "      <td>96773</td>\n",
       "      <td>14974</td>\n",
       "      <td>106618</td>\n",
       "      <td>43009</td>\n",
       "      <td>13256</td>\n",
       "      <td>Tesla</td>\n",
       "      <td>0.000000</td>\n",
       "      <td>0.000000</td>\n",
       "      <td>0.000000</td>\n",
       "      <td>0.000000</td>\n",
       "      <td>0.000000</td>\n",
       "    </tr>\n",
       "    <tr>\n",
       "      <th>4</th>\n",
       "      <td>4</td>\n",
       "      <td>2022</td>\n",
       "      <td>81462</td>\n",
       "      <td>12556</td>\n",
       "      <td>82338</td>\n",
       "      <td>36440</td>\n",
       "      <td>14724</td>\n",
       "      <td>Tesla</td>\n",
       "      <td>-15.821562</td>\n",
       "      <td>-16.147990</td>\n",
       "      <td>-22.772890</td>\n",
       "      <td>-15.273547</td>\n",
       "      <td>11.074231</td>\n",
       "    </tr>\n",
       "    <tr>\n",
       "      <th>5</th>\n",
       "      <td>5</td>\n",
       "      <td>2021</td>\n",
       "      <td>53821</td>\n",
       "      <td>5519</td>\n",
       "      <td>62131</td>\n",
       "      <td>30548</td>\n",
       "      <td>11497</td>\n",
       "      <td>Tesla</td>\n",
       "      <td>-33.931158</td>\n",
       "      <td>-56.044919</td>\n",
       "      <td>-24.541524</td>\n",
       "      <td>-16.169045</td>\n",
       "      <td>-21.916599</td>\n",
       "    </tr>\n",
       "    <tr>\n",
       "      <th>6</th>\n",
       "      <td>6</td>\n",
       "      <td>2023</td>\n",
       "      <td>383285</td>\n",
       "      <td>96995</td>\n",
       "      <td>352583</td>\n",
       "      <td>290437</td>\n",
       "      <td>110543</td>\n",
       "      <td>Apple</td>\n",
       "      <td>0.000000</td>\n",
       "      <td>0.000000</td>\n",
       "      <td>0.000000</td>\n",
       "      <td>0.000000</td>\n",
       "      <td>0.000000</td>\n",
       "    </tr>\n",
       "    <tr>\n",
       "      <th>7</th>\n",
       "      <td>7</td>\n",
       "      <td>2022</td>\n",
       "      <td>394328</td>\n",
       "      <td>99803</td>\n",
       "      <td>352755</td>\n",
       "      <td>302083</td>\n",
       "      <td>122151</td>\n",
       "      <td>Apple</td>\n",
       "      <td>2.881146</td>\n",
       "      <td>2.894995</td>\n",
       "      <td>0.048783</td>\n",
       "      <td>4.009820</td>\n",
       "      <td>10.500891</td>\n",
       "    </tr>\n",
       "    <tr>\n",
       "      <th>8</th>\n",
       "      <td>8</td>\n",
       "      <td>2021</td>\n",
       "      <td>365817</td>\n",
       "      <td>94680</td>\n",
       "      <td>351002</td>\n",
       "      <td>287912</td>\n",
       "      <td>104038</td>\n",
       "      <td>Apple</td>\n",
       "      <td>-7.230275</td>\n",
       "      <td>-5.133112</td>\n",
       "      <td>-0.496945</td>\n",
       "      <td>-4.691095</td>\n",
       "      <td>-14.828368</td>\n",
       "    </tr>\n",
       "  </tbody>\n",
       "</table>\n",
       "</div>"
      ],
      "text/plain": [
       "   Unnamed: 0  Year  Total Revenue  Net Income  Total Assets  \\\n",
       "0           0  2023         211915       72361        411976   \n",
       "1           1  2022         198270       72738        364840   \n",
       "2           2  2021         168088       61271        333779   \n",
       "3           3  2023          96773       14974        106618   \n",
       "4           4  2022          81462       12556         82338   \n",
       "5           5  2021          53821        5519         62131   \n",
       "6           6  2023         383285       96995        352583   \n",
       "7           7  2022         394328       99803        352755   \n",
       "8           8  2021         365817       94680        351002   \n",
       "\n",
       "   Total Liabilities  Cash Flow from Operating Activities    Company  \\\n",
       "0             205753                                87582  Microsoft   \n",
       "1             198298                                89035  Microsoft   \n",
       "2             191791                                76740  Microsoft   \n",
       "3              43009                                13256      Tesla   \n",
       "4              36440                                14724      Tesla   \n",
       "5              30548                                11497      Tesla   \n",
       "6             290437                               110543      Apple   \n",
       "7             302083                               122151      Apple   \n",
       "8             287912                               104038      Apple   \n",
       "\n",
       "   Revenue Growth (%)  Net Income Growth (%)  Assets Growth (%)  \\\n",
       "0            0.000000               0.000000           0.000000   \n",
       "1           -6.438902               0.520999         -11.441443   \n",
       "2          -15.222676             -15.764800          -8.513595   \n",
       "3            0.000000               0.000000           0.000000   \n",
       "4          -15.821562             -16.147990         -22.772890   \n",
       "5          -33.931158             -56.044919         -24.541524   \n",
       "6            0.000000               0.000000           0.000000   \n",
       "7            2.881146               2.894995           0.048783   \n",
       "8           -7.230275              -5.133112          -0.496945   \n",
       "\n",
       "   Liabilities Growth (%)  Cash Flow from Operations Growth(%)  \n",
       "0                0.000000                             0.000000  \n",
       "1               -3.623276                             1.659017  \n",
       "2               -3.281425                           -13.809176  \n",
       "3                0.000000                             0.000000  \n",
       "4              -15.273547                            11.074231  \n",
       "5              -16.169045                           -21.916599  \n",
       "6                0.000000                             0.000000  \n",
       "7                4.009820                            10.500891  \n",
       "8               -4.691095                           -14.828368  "
      ]
     },
     "execution_count": 2,
     "metadata": {},
     "output_type": "execute_result"
    }
   ],
   "source": [
    "data"
   ]
  },
  {
   "cell_type": "code",
   "execution_count": 3,
   "id": "8f21fe60-ca79-4e1f-a0e9-0a6154666593",
   "metadata": {},
   "outputs": [
    {
     "name": "stdout",
     "output_type": "stream",
     "text": [
      "Year by Year Average Growth from 2021 to 2023\n"
     ]
    },
    {
     "data": {
      "text/html": [
       "<div>\n",
       "<style scoped>\n",
       "    .dataframe tbody tr th:only-of-type {\n",
       "        vertical-align: middle;\n",
       "    }\n",
       "\n",
       "    .dataframe tbody tr th {\n",
       "        vertical-align: top;\n",
       "    }\n",
       "\n",
       "    .dataframe thead th {\n",
       "        text-align: right;\n",
       "    }\n",
       "</style>\n",
       "<table border=\"1\" class=\"dataframe\">\n",
       "  <thead>\n",
       "    <tr style=\"text-align: right;\">\n",
       "      <th></th>\n",
       "      <th>Unnamed: 0</th>\n",
       "      <th>Company</th>\n",
       "      <th>Revenue Growth (%)</th>\n",
       "      <th>Net Income Growth (%)</th>\n",
       "      <th>Assets Growth (%)</th>\n",
       "      <th>Liabilities Growth (%)</th>\n",
       "      <th>Cash Flow from Operations Growth(%)</th>\n",
       "    </tr>\n",
       "  </thead>\n",
       "  <tbody>\n",
       "    <tr>\n",
       "      <th>0</th>\n",
       "      <td>0</td>\n",
       "      <td>Apple</td>\n",
       "      <td>-1.449710</td>\n",
       "      <td>-0.746039</td>\n",
       "      <td>-0.149388</td>\n",
       "      <td>-0.227092</td>\n",
       "      <td>-1.442492</td>\n",
       "    </tr>\n",
       "    <tr>\n",
       "      <th>1</th>\n",
       "      <td>1</td>\n",
       "      <td>Microsoft</td>\n",
       "      <td>-7.220526</td>\n",
       "      <td>-5.081267</td>\n",
       "      <td>-6.651679</td>\n",
       "      <td>-2.301567</td>\n",
       "      <td>-4.050053</td>\n",
       "    </tr>\n",
       "    <tr>\n",
       "      <th>2</th>\n",
       "      <td>2</td>\n",
       "      <td>Tesla</td>\n",
       "      <td>-16.584240</td>\n",
       "      <td>-24.064303</td>\n",
       "      <td>-15.771471</td>\n",
       "      <td>-10.480864</td>\n",
       "      <td>-3.614123</td>\n",
       "    </tr>\n",
       "  </tbody>\n",
       "</table>\n",
       "</div>"
      ],
      "text/plain": [
       "   Unnamed: 0    Company  Revenue Growth (%)  Net Income Growth (%)  \\\n",
       "0           0      Apple           -1.449710              -0.746039   \n",
       "1           1  Microsoft           -7.220526              -5.081267   \n",
       "2           2      Tesla          -16.584240             -24.064303   \n",
       "\n",
       "   Assets Growth (%)  Liabilities Growth (%)  \\\n",
       "0          -0.149388               -0.227092   \n",
       "1          -6.651679               -2.301567   \n",
       "2         -15.771471              -10.480864   \n",
       "\n",
       "   Cash Flow from Operations Growth(%)  \n",
       "0                            -1.442492  \n",
       "1                            -4.050053  \n",
       "2                            -3.614123  "
      ]
     },
     "execution_count": 3,
     "metadata": {},
     "output_type": "execute_result"
    }
   ],
   "source": [
    "print(\"Year by Year Average Growth from 2021 to 2023\")\n",
    "data_2"
   ]
  },
  {
   "cell_type": "code",
   "execution_count": null,
   "id": "71d5f26d-6519-45ab-9524-be09c1b48366",
   "metadata": {},
   "outputs": [],
   "source": []
  },
  {
   "cell_type": "code",
   "execution_count": 4,
   "id": "98b8cfa8-0736-4e5e-be0a-02c550625dbc",
   "metadata": {},
   "outputs": [
    {
     "ename": "Exception",
     "evalue": "File `'AI_driven_Financial_ChatBot_Prototype.py'` not found.",
     "output_type": "error",
     "traceback": [
      "\u001b[1;31m---------------------------------------------------------------------------\u001b[0m",
      "\u001b[1;31mOSError\u001b[0m                                   Traceback (most recent call last)",
      "File \u001b[1;32m~\\anaconda3\\Lib\\site-packages\\IPython\\core\\magics\\execution.py:716\u001b[0m, in \u001b[0;36mExecutionMagics.run\u001b[1;34m(self, parameter_s, runner, file_finder)\u001b[0m\n\u001b[0;32m    715\u001b[0m     fpath \u001b[38;5;241m=\u001b[39m arg_lst[\u001b[38;5;241m0\u001b[39m]\n\u001b[1;32m--> 716\u001b[0m     filename \u001b[38;5;241m=\u001b[39m file_finder(fpath)\n\u001b[0;32m    717\u001b[0m \u001b[38;5;28;01mexcept\u001b[39;00m \u001b[38;5;167;01mIndexError\u001b[39;00m \u001b[38;5;28;01mas\u001b[39;00m e:\n",
      "File \u001b[1;32m~\\anaconda3\\Lib\\site-packages\\IPython\\utils\\path.py:90\u001b[0m, in \u001b[0;36mget_py_filename\u001b[1;34m(name)\u001b[0m\n\u001b[0;32m     89\u001b[0m         \u001b[38;5;28;01mreturn\u001b[39;00m py_name\n\u001b[1;32m---> 90\u001b[0m \u001b[38;5;28;01mraise\u001b[39;00m \u001b[38;5;167;01mIOError\u001b[39;00m(\u001b[38;5;124m\"\u001b[39m\u001b[38;5;124mFile `\u001b[39m\u001b[38;5;132;01m%r\u001b[39;00m\u001b[38;5;124m` not found.\u001b[39m\u001b[38;5;124m\"\u001b[39m \u001b[38;5;241m%\u001b[39m name)\n",
      "\u001b[1;31mOSError\u001b[0m: File `'AI_driven_Financial_ChatBot_Prototype.py'` not found.",
      "\nThe above exception was the direct cause of the following exception:\n",
      "\u001b[1;31mException\u001b[0m                                 Traceback (most recent call last)",
      "Cell \u001b[1;32mIn[4], line 1\u001b[0m\n\u001b[1;32m----> 1\u001b[0m get_ipython()\u001b[38;5;241m.\u001b[39mrun_line_magic(\u001b[38;5;124m'\u001b[39m\u001b[38;5;124mrun\u001b[39m\u001b[38;5;124m'\u001b[39m, \u001b[38;5;124m'\u001b[39m\u001b[38;5;124mAI_driven_Financial_ChatBot_Prototype.py\u001b[39m\u001b[38;5;124m'\u001b[39m)\n",
      "File \u001b[1;32m~\\anaconda3\\Lib\\site-packages\\IPython\\core\\interactiveshell.py:2456\u001b[0m, in \u001b[0;36mInteractiveShell.run_line_magic\u001b[1;34m(self, magic_name, line, _stack_depth)\u001b[0m\n\u001b[0;32m   2454\u001b[0m     kwargs[\u001b[38;5;124m'\u001b[39m\u001b[38;5;124mlocal_ns\u001b[39m\u001b[38;5;124m'\u001b[39m] \u001b[38;5;241m=\u001b[39m \u001b[38;5;28mself\u001b[39m\u001b[38;5;241m.\u001b[39mget_local_scope(stack_depth)\n\u001b[0;32m   2455\u001b[0m \u001b[38;5;28;01mwith\u001b[39;00m \u001b[38;5;28mself\u001b[39m\u001b[38;5;241m.\u001b[39mbuiltin_trap:\n\u001b[1;32m-> 2456\u001b[0m     result \u001b[38;5;241m=\u001b[39m fn(\u001b[38;5;241m*\u001b[39margs, \u001b[38;5;241m*\u001b[39m\u001b[38;5;241m*\u001b[39mkwargs)\n\u001b[0;32m   2458\u001b[0m \u001b[38;5;66;03m# The code below prevents the output from being displayed\u001b[39;00m\n\u001b[0;32m   2459\u001b[0m \u001b[38;5;66;03m# when using magics with decorator @output_can_be_silenced\u001b[39;00m\n\u001b[0;32m   2460\u001b[0m \u001b[38;5;66;03m# when the last Python token in the expression is a ';'.\u001b[39;00m\n\u001b[0;32m   2461\u001b[0m \u001b[38;5;28;01mif\u001b[39;00m \u001b[38;5;28mgetattr\u001b[39m(fn, magic\u001b[38;5;241m.\u001b[39mMAGIC_OUTPUT_CAN_BE_SILENCED, \u001b[38;5;28;01mFalse\u001b[39;00m):\n",
      "File \u001b[1;32m~\\anaconda3\\Lib\\site-packages\\IPython\\core\\magics\\execution.py:727\u001b[0m, in \u001b[0;36mExecutionMagics.run\u001b[1;34m(self, parameter_s, runner, file_finder)\u001b[0m\n\u001b[0;32m    725\u001b[0m     \u001b[38;5;28;01mif\u001b[39;00m os\u001b[38;5;241m.\u001b[39mname \u001b[38;5;241m==\u001b[39m \u001b[38;5;124m'\u001b[39m\u001b[38;5;124mnt\u001b[39m\u001b[38;5;124m'\u001b[39m \u001b[38;5;129;01mand\u001b[39;00m re\u001b[38;5;241m.\u001b[39mmatch(\u001b[38;5;124mr\u001b[39m\u001b[38;5;124m\"\u001b[39m\u001b[38;5;124m^\u001b[39m\u001b[38;5;124m'\u001b[39m\u001b[38;5;124m.*\u001b[39m\u001b[38;5;124m'\u001b[39m\u001b[38;5;124m$\u001b[39m\u001b[38;5;124m\"\u001b[39m,fpath):\n\u001b[0;32m    726\u001b[0m         warn(\u001b[38;5;124m'\u001b[39m\u001b[38;5;124mFor Windows, use double quotes to wrap a filename: \u001b[39m\u001b[38;5;132;01m%r\u001b[39;00m\u001b[38;5;124mun \u001b[39m\u001b[38;5;124m\"\u001b[39m\u001b[38;5;124mmypath\u001b[39m\u001b[38;5;130;01m\\\\\u001b[39;00m\u001b[38;5;124mmyfile.py\u001b[39m\u001b[38;5;124m\"\u001b[39m\u001b[38;5;124m'\u001b[39m)\n\u001b[1;32m--> 727\u001b[0m     \u001b[38;5;28;01mraise\u001b[39;00m \u001b[38;5;167;01mException\u001b[39;00m(msg) \u001b[38;5;28;01mfrom\u001b[39;00m \u001b[38;5;21;01me\u001b[39;00m\n\u001b[0;32m    728\u001b[0m \u001b[38;5;28;01mexcept\u001b[39;00m \u001b[38;5;167;01mTypeError\u001b[39;00m:\n\u001b[0;32m    729\u001b[0m     \u001b[38;5;28;01mif\u001b[39;00m fpath \u001b[38;5;129;01min\u001b[39;00m sys\u001b[38;5;241m.\u001b[39mmeta_path:\n",
      "\u001b[1;31mException\u001b[0m: File `'AI_driven_Financial_ChatBot_Prototype.py'` not found."
     ]
    }
   ],
   "source": [
    "%run AI_driven_Financial_ChatBot_Prototype.py"
   ]
  },
  {
   "cell_type": "code",
   "execution_count": 5,
   "id": "fe1e090e-848e-4088-bebf-0557e4e8b6bb",
   "metadata": {},
   "outputs": [
    {
     "name": "stdout",
     "output_type": "stream",
     "text": [
      "----------------------------------------------------------------------------\n"
     ]
    },
    {
     "name": "stdin",
     "output_type": "stream",
     "text": [
      "\n",
      "Enter Hi to start the chatbot session; type 'exit' to quit):  Hi\n"
     ]
    },
    {
     "name": "stdout",
     "output_type": "stream",
     "text": [
      "\n",
      "Hello! Welcome to AI Driven Financial Chatbot!!!\n",
      "\n",
      "I can help you with your financial queries\n",
      "Please select the company name from below: -\n",
      "\n",
      "1.Microsoft \n",
      "2.Tesla \n",
      "3.Apple\n"
     ]
    },
    {
     "name": "stdin",
     "output_type": "stream",
     "text": [
      "Enter company name :  1\n"
     ]
    },
    {
     "name": "stdout",
     "output_type": "stream",
     "text": [
      "Invalid Company Name. Please check and enter correct company name by starting the chatbot session again\n"
     ]
    }
   ],
   "source": [
    "%run AI_driven_Financial_ChatBot_Prototype.py"
   ]
  },
  {
   "cell_type": "code",
   "execution_count": null,
   "id": "4d9bc35a-41dd-4bec-b799-4edcad3876eb",
   "metadata": {},
   "outputs": [
    {
     "name": "stdout",
     "output_type": "stream",
     "text": [
      "----------------------------------------------------------------------------\n"
     ]
    },
    {
     "name": "stdin",
     "output_type": "stream",
     "text": [
      "\n",
      "Enter Hi to start the chatbot session; type 'exit' to quit):  hi\n"
     ]
    },
    {
     "name": "stdout",
     "output_type": "stream",
     "text": [
      "\n",
      "Hello! Welcome to AI Driven Financial Chatbot!!!\n",
      "\n",
      "I can help you with your financial queries\n",
      "Please select the company name from below: -\n",
      "\n",
      "1.Microsoft \n",
      "2.Tesla \n",
      "3.Apple\n"
     ]
    },
    {
     "name": "stdin",
     "output_type": "stream",
     "text": [
      "Enter company name :  Tesla\n"
     ]
    },
    {
     "name": "stdout",
     "output_type": "stream",
     "text": [
      "\n",
      "The data for the fiscal year 2023, 2022, and 2021 is currently available\n"
     ]
    },
    {
     "name": "stdin",
     "output_type": "stream",
     "text": [
      "The fiscal year for the selected company :  2023\n"
     ]
    },
    {
     "name": "stdout",
     "output_type": "stream",
     "text": [
      "\n",
      "Please enter your query\n"
     ]
    },
    {
     "name": "stdin",
     "output_type": "stream",
     "text": [
      " What is the year by year average net income growth rate(%)?\n"
     ]
    },
    {
     "name": "stdout",
     "output_type": "stream",
     "text": [
      "The Year By Year Net Income Revenue Growth Rate(%) from 2021 to 2023 for Tesla is -24.0643(%)\n",
      "----------------------------------------------------------------------------\n"
     ]
    }
   ],
   "source": [
    "%run AI_driven_Financial_ChatBot_Prototype.py"
   ]
  },
  {
   "cell_type": "code",
   "execution_count": null,
   "id": "3e5e1379-77fa-498d-aa9d-ee1dec46c245",
   "metadata": {},
   "outputs": [],
   "source": []
  }
 ],
 "metadata": {
  "kernelspec": {
   "display_name": "Python 3 (ipykernel)",
   "language": "python",
   "name": "python3"
  },
  "language_info": {
   "codemirror_mode": {
    "name": "ipython",
    "version": 3
   },
   "file_extension": ".py",
   "mimetype": "text/x-python",
   "name": "python",
   "nbconvert_exporter": "python",
   "pygments_lexer": "ipython3",
   "version": "3.11.7"
  }
 },
 "nbformat": 4,
 "nbformat_minor": 5
}
